{
 "cells": [
  {
   "cell_type": "markdown",
   "metadata": {},
   "source": [
    "# Installation \n",
    "#### Anaconda 3-4.2.0 (or higher)\n",
    "#### Create virtual environment >> conda create -n yourenvname\n",
    "#### Activate virtual environment >>  conda activate yourenvname\n",
    "#### Install torchvision (Installs pytorch too) >> conda install -c pytorch torchvision\n",
    "#### Open Jupyter notebook >> jupyter notebook"
   ]
  },
  {
   "cell_type": "code",
   "execution_count": 1,
   "metadata": {},
   "outputs": [],
   "source": [
    "import numpy as np\n",
    "import torch\n",
    "import torchvision\n",
    "import matplotlib.pyplot as plt\n",
    "from time import time\n",
    "from torchvision import datasets, transforms\n",
    "from torch import nn, optim\n",
    "import torch.nn as nn\n",
    "import torch.nn.functional as F\n",
    "import torch.optim as optim\n",
    "import matplotlib.pyplot as plt\n",
    "from torch.utils.data import Dataset, DataLoader\n",
    "import pandas as pd\n",
    "import os\n",
    "import cv2 as cv\n",
    "# from skimage import io"
   ]
  },
  {
   "cell_type": "markdown",
   "metadata": {},
   "source": [
    "## Input Transformation\n",
    "#### Convert the Numpy arrays to PyTorch tensors and normalize input"
   ]
  },
  {
   "cell_type": "code",
   "execution_count": 2,
   "metadata": {},
   "outputs": [],
   "source": [
    "transform = transforms.Compose([transforms.ToTensor(),\n",
    "                              transforms.Normalize((0.5,), (0.5,)),\n",
    "                              ])"
   ]
  },
  {
   "cell_type": "markdown",
   "metadata": {},
   "source": [
    "## Loading dataset\n",
    "#### This is a built-in demo. Creating your own custom dataloader is discussed later"
   ]
  },
  {
   "cell_type": "markdown",
   "metadata": {},
   "source": [
    "## Constructing the network"
   ]
  },
  {
   "cell_type": "code",
   "execution_count": 3,
   "metadata": {},
   "outputs": [],
   "source": [
    "class customDataset(Dataset):\n",
    "    \"\"\"Face Landmarks dataset.\"\"\"\n",
    "\n",
    "    def __init__(self, csv_file, root_dir, transform=None):\n",
    "        \"\"\"\n",
    "        Args:\n",
    "            csv_file (string): Path to the csv file with annotations.\n",
    "            root_dir (string): Directory with all the images.\n",
    "            transform (callable, optional): Optional transform to be applied\n",
    "                on a sample.\n",
    "        \"\"\"\n",
    "        self.label = pd.read_csv(csv_file)\n",
    "        self.root_dir = root_dir\n",
    "        self.transform = transform\n",
    "\n",
    "    def __len__(self):\n",
    "        return len(self.label)\n",
    "\n",
    "    def __getitem__(self, idx):\n",
    "        if torch.is_tensor(idx):\n",
    "            idx = idx.tolist()\n",
    "\n",
    "        img_name = os.path.join(self.root_dir,\n",
    "                                self.label.iloc[idx, 0])\n",
    "#         print(img_name)\n",
    "        image = cv.equalizeHist(cv.imread(img_name, cv.IMREAD_GRAYSCALE))/255.0\n",
    "        labels = self.label.iloc[idx, 1]\n",
    "        labels = np.array([labels])\n",
    "        labels = labels.astype('float').reshape(-1, 1)\n",
    "        sample = {'image': image, 'label': labels}\n",
    "\n",
    "        if self.transform:\n",
    "            sample = self.transform(sample)\n",
    "\n",
    "        return sample"
   ]
  },
  {
   "cell_type": "code",
   "execution_count": 4,
   "metadata": {},
   "outputs": [],
   "source": [
    "custom_dataset = customDataset(csv_file='labels2.csv',\n",
    "                                    root_dir='/home/dhull/vision/ass4/')\n",
    "imgs = []\n",
    "lbls = []\n",
    "\n",
    "for i in range(len(custom_dataset)):\n",
    "    sample = custom_dataset[i]\n",
    "    imgs.append([sample['image']])\n",
    "    lbls.append(sample['label'][0][0])\n",
    "imgs = np.asarray(imgs).astype(float)\n",
    "lbls = np.asarray(lbls)"
   ]
  },
  {
   "cell_type": "code",
   "execution_count": 5,
   "metadata": {},
   "outputs": [],
   "source": [
    "class Net(nn.Module):\n",
    "\n",
    "    def __init__(self):\n",
    "        super(Net, self).__init__()\n",
    "        # 1 input image channel, 6 output channels, 3x3 square convolution kernel\n",
    "        self.conv1 = nn.Conv2d(1, 6, 3)\n",
    "        self.conv2 = nn.Conv2d(6, 16, 7)\n",
    "        # an affine operation: y = Wx + b\n",
    "        self.fc1 = nn.Linear(1296, 500)  \n",
    "        self.fc2 = nn.Linear(500, 100)\n",
    "        self.fc3 = nn.Linear(100, 4)\n",
    "\n",
    "    def forward(self, x):\n",
    "        # Max pooling over a (2, 2) window\n",
    "        x = F.max_pool2d(F.relu(self.conv1(x)), (2, 2))\n",
    "        # If the size is a square you can only specify a single number\n",
    "        x = F.max_pool2d(F.relu(self.conv2(x)), 2)\n",
    "        x = x.view(-1, self.num_flat_features(x))\n",
    "        x = F.relu(self.fc1(x))\n",
    "        x = F.relu(self.fc2(x))\n",
    "        x = self.fc3(x)\n",
    "        return x\n",
    "\n",
    "    def num_flat_features(self, x):\n",
    "        size = x.size()[1:]  # all dimensions except the batch dimension\n",
    "        num_features = 1\n",
    "        for s in size:\n",
    "            num_features *= s\n",
    "        return num_features\n",
    "\n",
    "\n",
    "net = Net()"
   ]
  },
  {
   "cell_type": "markdown",
   "metadata": {},
   "source": [
    "### Original for white:\n",
    "Net(  \n",
    "  (conv1): Conv2d(1, 6, kernel_size=(3, 3), stride=(1, 1))  \n",
    "  (conv2): Conv2d(6, 16, kernel_size=(7, 7), stride=(1, 1))  \n",
    "  (fc1): Linear(in_features=1296, out_features=500, bias=True)  \n",
    "  (fc2): Linear(in_features=500, out_features=100, bias=True)  \n",
    "  (fc3): Linear(in_features=100, out_features=4, bias=True)  \n",
    ")"
   ]
  },
  {
   "cell_type": "code",
   "execution_count": 6,
   "metadata": {},
   "outputs": [
    {
     "data": {
      "text/plain": [
       "<All keys matched successfully>"
      ]
     },
     "execution_count": 6,
     "metadata": {},
     "output_type": "execute_result"
    }
   ],
   "source": [
    "net.load_state_dict(torch.load(\"initial.m\"))"
   ]
  },
  {
   "cell_type": "code",
   "execution_count": 7,
   "metadata": {},
   "outputs": [],
   "source": [
    "criterion = nn.CrossEntropyLoss()\n",
    "optimizer = optim.SGD(net.parameters(), lr=0.001, momentum=0.9)"
   ]
  },
  {
   "cell_type": "markdown",
   "metadata": {},
   "source": [
    "## Training the network"
   ]
  },
  {
   "cell_type": "code",
   "execution_count": 11,
   "metadata": {},
   "outputs": [
    {
     "data": {
      "text/plain": [
       "3611"
      ]
     },
     "execution_count": 11,
     "metadata": {},
     "output_type": "execute_result"
    }
   ],
   "source": [
    "len(imgs)"
   ]
  },
  {
   "cell_type": "code",
   "execution_count": 8,
   "metadata": {
    "scrolled": true
   },
   "outputs": [
    {
     "name": "stdout",
     "output_type": "stream",
     "text": [
      "[1,   100] loss: 1.380\n",
      "[1,   200] loss: 1.353\n",
      "[1,   300] loss: 1.321\n",
      "[1,   400] loss: 1.261\n",
      "[1,   500] loss: 1.178\n",
      "[1,   600] loss: 1.204\n",
      "[1,   700] loss: 1.104\n",
      "[1,   800] loss: 0.925\n",
      "[1,   900] loss: 1.074\n",
      "[1,  1000] loss: 0.857\n",
      "[1,  1100] loss: 0.892\n",
      "[1,  1200] loss: 0.784\n",
      "[1,  1300] loss: 0.602\n",
      "[1,  1400] loss: 0.572\n",
      "[1,  1500] loss: 0.314\n",
      "[1,  1600] loss: 0.715\n",
      "[1,  1700] loss: 0.231\n",
      "[1,  1800] loss: 0.530\n",
      "[1,  1900] loss: 0.411\n",
      "[1,  2000] loss: 0.272\n",
      "[1,  2100] loss: 0.184\n",
      "[1,  2200] loss: 0.232\n",
      "[1,  2300] loss: 0.224\n",
      "[1,  2400] loss: 0.255\n",
      "[1,  2500] loss: 0.186\n",
      "[1,  2600] loss: 0.092\n",
      "[1,  2700] loss: 0.165\n",
      "[1,  2800] loss: 0.195\n",
      "[2,   100] loss: 0.077\n",
      "[2,   200] loss: 0.086\n",
      "[2,   300] loss: 0.073\n",
      "[2,   400] loss: 0.093\n",
      "[2,   500] loss: 0.046\n",
      "[2,   600] loss: 0.133\n",
      "[2,   700] loss: 0.030\n",
      "[2,   800] loss: 0.055\n",
      "[2,   900] loss: 0.229\n",
      "[2,  1000] loss: 0.155\n",
      "[2,  1100] loss: 0.043\n",
      "[2,  1200] loss: 0.020\n",
      "[2,  1300] loss: 0.037\n",
      "[2,  1400] loss: 0.061\n",
      "[2,  1500] loss: 0.014\n",
      "[2,  1600] loss: 0.206\n",
      "[2,  1700] loss: 0.013\n",
      "[2,  1800] loss: 0.016\n",
      "[2,  1900] loss: 0.058\n",
      "[2,  2000] loss: 0.025\n",
      "[2,  2100] loss: 0.020\n",
      "[2,  2200] loss: 0.014\n",
      "[2,  2300] loss: 0.004\n",
      "[2,  2400] loss: 0.076\n",
      "[2,  2500] loss: 0.013\n",
      "[2,  2600] loss: 0.011\n",
      "[2,  2700] loss: 0.021\n",
      "[2,  2800] loss: 0.071\n",
      "[3,   100] loss: 0.037\n",
      "[3,   200] loss: 0.076\n",
      "[3,   300] loss: 0.015\n",
      "[3,   400] loss: 0.008\n",
      "[3,   500] loss: 0.028\n",
      "[3,   600] loss: 0.009\n",
      "[3,   700] loss: 0.004\n",
      "[3,   800] loss: 0.004\n",
      "[3,   900] loss: 0.004\n",
      "[3,  1000] loss: 0.002\n",
      "[3,  1100] loss: 0.004\n",
      "[3,  1200] loss: 0.001\n",
      "[3,  1300] loss: 0.007\n",
      "[3,  1400] loss: 0.010\n",
      "[3,  1500] loss: 0.001\n",
      "[3,  1600] loss: 0.042\n",
      "[3,  1700] loss: 0.004\n",
      "[3,  1800] loss: 0.115\n",
      "[3,  1900] loss: 0.084\n",
      "[3,  2000] loss: 0.146\n",
      "[3,  2100] loss: 0.013\n",
      "[3,  2200] loss: 0.005\n",
      "[3,  2300] loss: 0.013\n",
      "[3,  2400] loss: 0.015\n",
      "[3,  2500] loss: 0.002\n",
      "[3,  2600] loss: 0.004\n",
      "[3,  2700] loss: 0.009\n",
      "[3,  2800] loss: 0.007\n",
      "[4,   100] loss: 0.004\n",
      "[4,   200] loss: 0.010\n",
      "[4,   300] loss: 0.003\n",
      "[4,   400] loss: 0.002\n",
      "[4,   500] loss: 0.015\n",
      "[4,   600] loss: 0.021\n",
      "[4,   700] loss: 0.006\n",
      "[4,   800] loss: 0.008\n",
      "[4,   900] loss: 0.003\n",
      "[4,  1000] loss: 0.003\n",
      "[4,  1100] loss: 0.002\n",
      "[4,  1200] loss: 0.001\n",
      "[4,  1300] loss: 0.005\n",
      "[4,  1400] loss: 0.002\n",
      "[4,  1500] loss: 0.001\n",
      "[4,  1600] loss: 0.005\n",
      "[4,  1700] loss: 0.003\n",
      "[4,  1800] loss: 0.000\n",
      "[4,  1900] loss: 0.001\n",
      "[4,  2000] loss: 0.000\n",
      "[4,  2100] loss: 0.000\n",
      "[4,  2200] loss: 0.000\n",
      "[4,  2300] loss: 0.001\n",
      "[4,  2400] loss: 0.001\n",
      "[4,  2500] loss: 0.000\n",
      "[4,  2600] loss: 0.000\n",
      "[4,  2700] loss: 0.000\n",
      "[4,  2800] loss: 0.001\n",
      "[5,   100] loss: 0.048\n",
      "[5,   200] loss: 0.001\n",
      "[5,   300] loss: 0.004\n",
      "[5,   400] loss: 0.001\n",
      "[5,   500] loss: 0.005\n",
      "[5,   600] loss: 0.012\n",
      "[5,   700] loss: 0.005\n",
      "[5,   800] loss: 0.000\n",
      "[5,   900] loss: 0.183\n",
      "[5,  1000] loss: 0.011\n",
      "[5,  1100] loss: 0.012\n",
      "[5,  1200] loss: 0.050\n",
      "[5,  1300] loss: 0.009\n",
      "[5,  1400] loss: 0.013\n",
      "[5,  1500] loss: 0.001\n",
      "[5,  1600] loss: 0.015\n",
      "[5,  1700] loss: 0.002\n",
      "[5,  1800] loss: 0.002\n",
      "[5,  1900] loss: 0.010\n",
      "[5,  2000] loss: 0.002\n",
      "[5,  2100] loss: 0.001\n",
      "[5,  2200] loss: 0.001\n",
      "[5,  2300] loss: 0.001\n",
      "[5,  2400] loss: 0.002\n",
      "[5,  2500] loss: 0.001\n",
      "[5,  2600] loss: 0.000\n",
      "[5,  2700] loss: 0.001\n",
      "[5,  2800] loss: 0.002\n",
      "Finished Training\n"
     ]
    },
    {
     "data": {
      "image/png": "[encoded data removed]",
      "text/plain": [
       "<Figure size 432x288 with 1 Axes>"
      ]
     },
     "metadata": {
      "needs_background": "light"
     },
     "output_type": "display_data"
    }
   ],
   "source": [
    "mini_batch = 100\n",
    "loss_values = []\n",
    "test_values = []\n",
    "train_size = int(0.8*len(imgs))\n",
    "test_size = len(imgs) - train_size\n",
    "for epoch in range(5):  # loop over the dataset multiple times\n",
    "\n",
    "    running_loss = 0.0\n",
    "    \n",
    "    for i in range(train_size):\n",
    "        # get the inputs; data is a list of [inputs, labels]\n",
    "        inputs = torch.from_numpy(np.asarray([imgs[i]])).float()\n",
    "        label = torch.from_numpy(np.asarray([lbls[i]])).long()\n",
    "        optimizer.zero_grad()\n",
    "        \n",
    "        # forward + backward + optimize\n",
    "        outputs = net(inputs)\n",
    "        loss = criterion(outputs, label)\n",
    "        loss.backward()\n",
    "        optimizer.step()\n",
    "\n",
    "        # print statistics\n",
    "        running_loss += loss.item()\n",
    "        if i % mini_batch == mini_batch-1:    # print every 200 mini-batches\n",
    "            print('[%d, %5d] loss: %.3f' %\n",
    "                  (epoch + 1, i + 1, running_loss / mini_batch))\n",
    "            total = 0\n",
    "            correct = 0\n",
    "            test_loss = 0.0\n",
    "            for j in range(train_size,len(imgs)):\n",
    "                # get the inputs; data is a list of [inputs, labels]\n",
    "                inputs = torch.from_numpy(np.asarray([imgs[j]])).float()\n",
    "                labels = torch.from_numpy(np.asarray([lbls[j]])).long()\n",
    "\n",
    "                # forward + backward + optimize\n",
    "                outputs = net(inputs)\n",
    "                loss = criterion(outputs, labels)\n",
    "                test_loss += loss.item()\n",
    "            test_values.append(test_loss/test_size)\n",
    "            loss_values.append(running_loss/mini_batch)\n",
    "            running_loss = 0.0\n",
    "        \n",
    "plt.plot(loss_values)\n",
    "plt.plot(test_values)\n",
    "\n",
    "print('Finished Training')"
   ]
  },
  {
   "cell_type": "code",
   "execution_count": 13,
   "metadata": {},
   "outputs": [
    {
     "data": {
      "text/plain": [
       "[<matplotlib.lines.Line2D at 0x7fd711e9c810>]"
      ]
     },
     "execution_count": 13,
     "metadata": {},
     "output_type": "execute_result"
    },
    {
     "data": {
      "image/png": "[encoded data removed]",
      "text/plain": [
       "<Figure size 432x288 with 1 Axes>"
      ]
     },
     "metadata": {
      "needs_background": "light"
     },
     "output_type": "display_data"
    }
   ],
   "source": [
    "plt.plot(loss_values)\n",
    "plt.plot(test_values)"
   ]
  },
  {
   "cell_type": "code",
   "execution_count": 9,
   "metadata": {},
   "outputs": [],
   "source": [
    "torch.save(net.state_dict(), \"part2.m\")"
   ]
  },
  {
   "cell_type": "code",
   "execution_count": null,
   "metadata": {},
   "outputs": [],
   "source": []
  },
  {
   "cell_type": "markdown",
   "metadata": {},
   "source": [
    "## Chenking Train and Test accuracies"
   ]
  },
  {
   "cell_type": "code",
   "execution_count": null,
   "metadata": {},
   "outputs": [],
   "source": [
    "correct = 0\n",
    "total = 0\n",
    "with torch.no_grad():\n",
    "    for i in range(len(imgs)):\n",
    "        # get the inputs; data is a list of [inputs, labels]\n",
    "        inputs = torch.from_numpy(np.asarray([imgs[i]])).float()\n",
    "        labels = torch.from_numpy(np.asarray([lbls[i]])).long()\n",
    "        \n",
    "        # forward + backward + optimize\n",
    "        outputs = net(inputs)\n",
    "        _, predicted = torch.max(outputs.data, 1)\n",
    "        total += labels.size(0)\n",
    "        correct += (predicted == labels).sum().item()\n",
    "\n",
    "print('Accuracy of the network on the train images: %d %%' % (\n",
    "    100 * correct / total))"
   ]
  },
  {
   "cell_type": "code",
   "execution_count": null,
   "metadata": {},
   "outputs": [],
   "source": [
    "correct = 0\n",
    "total = 0\n",
    "with torch.no_grad():\n",
    "    for data in testloader:\n",
    "        images, labels = data\n",
    "        outputs = net(images)\n",
    "        _, predicted = torch.max(outputs.data, 1)\n",
    "        total += labels.size(0)\n",
    "        correct += (predicted == labels).sum().item()\n",
    "\n",
    "print('Accuracy of the network on the test images: %d %%' % (\n",
    "    100 * correct / total))"
   ]
  },
  {
   "cell_type": "markdown",
   "metadata": {},
   "source": [
    "## Making your own custom Dataloader"
   ]
  },
  {
   "cell_type": "code",
   "execution_count": null,
   "metadata": {},
   "outputs": [],
   "source": [
    "imgs.shape"
   ]
  },
  {
   "cell_type": "code",
   "execution_count": null,
   "metadata": {},
   "outputs": [],
   "source": [
    "torch_imgs.shape"
   ]
  },
  {
   "cell_type": "code",
   "execution_count": null,
   "metadata": {},
   "outputs": [],
   "source": []
  }
 ],
 "metadata": {
  "kernelspec": {
   "display_name": "Python 3",
   "language": "python",
   "name": "python3"
  },
  "language_info": {
   "codemirror_mode": {
    "name": "ipython",
    "version": 2
   },
   "file_extension": ".py",
   "mimetype": "text/x-python",
   "name": "python",
   "nbconvert_exporter": "python",
   "pygments_lexer": "ipython2",
   "version": "2.7.16"
  }
 },
 "nbformat": 4,
 "nbformat_minor": 2
}
