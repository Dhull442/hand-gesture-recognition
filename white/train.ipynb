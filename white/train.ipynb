{
 "cells": [
  {
   "cell_type": "markdown",
   "metadata": {},
   "source": [
    "# Installation \n",
    "#### Anaconda 3-4.2.0 (or higher)\n",
    "#### Create virtual environment >> conda create -n yourenvname\n",
    "#### Activate virtual environment >>  conda activate yourenvname\n",
    "#### Install torchvision (Installs pytorch too) >> conda install -c pytorch torchvision\n",
    "#### Open Jupyter notebook >> jupyter notebook"
   ]
  },
  {
   "cell_type": "code",
   "execution_count": 1,
   "metadata": {},
   "outputs": [],
   "source": [
    "import numpy as np\n",
    "import torch\n",
    "import torchvision\n",
    "import matplotlib.pyplot as plt\n",
    "from time import time\n",
    "from torchvision import datasets, transforms\n",
    "from torch import nn, optim\n",
    "import torch.nn as nn\n",
    "import torch.nn.functional as F\n",
    "import torch.optim as optim\n",
    "import matplotlib.pyplot as plt\n",
    "from torch.utils.data import Dataset, DataLoader\n",
    "import pandas as pd\n",
    "import os\n",
    "import cv2 as cv\n",
    "# from skimage import io"
   ]
  },
  {
   "cell_type": "markdown",
   "metadata": {},
   "source": [
    "## Input Transformation\n",
    "#### Convert the Numpy arrays to PyTorch tensors and normalize input"
   ]
  },
  {
   "cell_type": "code",
   "execution_count": 2,
   "metadata": {},
   "outputs": [],
   "source": [
    "transform = transforms.Compose([transforms.ToTensor(),\n",
    "                              transforms.Normalize((0.5,), (0.5,)),\n",
    "                              ])"
   ]
  },
  {
   "cell_type": "markdown",
   "metadata": {},
   "source": [
    "## Loading dataset\n",
    "#### This is a built-in demo. Creating your own custom dataloader is discussed later"
   ]
  },
  {
   "cell_type": "markdown",
   "metadata": {},
   "source": [
    "## Constructing the network"
   ]
  },
  {
   "cell_type": "code",
   "execution_count": 3,
   "metadata": {},
   "outputs": [],
   "source": [
    "class customDataset(Dataset):\n",
    "    \"\"\"Face Landmarks dataset.\"\"\"\n",
    "\n",
    "    def __init__(self, csv_file, root_dir, transform=None):\n",
    "        \"\"\"\n",
    "        Args:\n",
    "            csv_file (string): Path to the csv file with annotations.\n",
    "            root_dir (string): Directory with all the images.\n",
    "            transform (callable, optional): Optional transform to be applied\n",
    "                on a sample.\n",
    "        \"\"\"\n",
    "        self.label = pd.read_csv(csv_file)\n",
    "        self.root_dir = root_dir\n",
    "        self.transform = transform\n",
    "\n",
    "    def __len__(self):\n",
    "        return len(self.label)\n",
    "\n",
    "    def __getitem__(self, idx):\n",
    "        if torch.is_tensor(idx):\n",
    "            idx = idx.tolist()\n",
    "\n",
    "        img_name = os.path.join(self.root_dir,\n",
    "                                self.label.iloc[idx, 0])\n",
    "#         print(img_name)\n",
    "        image = cv.equalizeHist(cv.imread(img_name, cv.IMREAD_GRAYSCALE))/255.0\n",
    "        labels = self.label.iloc[idx, 1]\n",
    "        labels = np.array([labels])\n",
    "        labels = labels.astype('float').reshape(-1, 1)\n",
    "        sample = {'image': image, 'label': labels}\n",
    "\n",
    "        if self.transform:\n",
    "            sample = self.transform(sample)\n",
    "\n",
    "        return sample"
   ]
  },
  {
   "cell_type": "code",
   "execution_count": 4,
   "metadata": {},
   "outputs": [],
   "source": [
    "custom_dataset = customDataset(csv_file='labels2.csv',\n",
    "                                    root_dir='/home/dhull/vision/ass4/')\n",
    "imgs = []\n",
    "lbls = []\n",
    "\n",
    "for i in range(len(custom_dataset)):\n",
    "    sample = custom_dataset[i]\n",
    "    imgs.append([sample['image']])\n",
    "    lbls.append(sample['label'][0][0])\n",
    "imgs = np.asarray(imgs).astype(float)\n",
    "lbls = np.asarray(lbls)"
   ]
  },
  {
   "cell_type": "code",
   "execution_count": 5,
   "metadata": {},
   "outputs": [],
   "source": [
    "class Net(nn.Module):\n",
    "\n",
    "    def __init__(self):\n",
    "        super(Net, self).__init__()\n",
    "        # 1 input image channel, 6 output channels, 3x3 square convolution kernel\n",
    "        self.conv1 = nn.Conv2d(1, 6, 3)\n",
    "        self.conv2 = nn.Conv2d(6, 16, 7)\n",
    "        # an affine operation: y = Wx + b\n",
    "        self.fc1 = nn.Linear(1296, 500)  \n",
    "        self.fc2 = nn.Linear(500, 100)\n",
    "        self.fc3 = nn.Linear(100, 4)\n",
    "\n",
    "    def forward(self, x):\n",
    "        # Max pooling over a (2, 2) window\n",
    "        x = F.max_pool2d(F.relu(self.conv1(x)), (2, 2))\n",
    "        # If the size is a square you can only specify a single number\n",
    "        x = F.max_pool2d(F.relu(self.conv2(x)), 2)\n",
    "        x = x.view(-1, self.num_flat_features(x))\n",
    "        x = F.relu(self.fc1(x))\n",
    "        x = F.relu(self.fc2(x))\n",
    "        x = self.fc3(x)\n",
    "        return x\n",
    "\n",
    "    def num_flat_features(self, x):\n",
    "        size = x.size()[1:]  # all dimensions except the batch dimension\n",
    "        num_features = 1\n",
    "        for s in size:\n",
    "            num_features *= s\n",
    "        return num_features\n",
    "\n",
    "\n",
    "net = Net()"
   ]
  },
  {
   "cell_type": "markdown",
   "metadata": {},
   "source": [
    "### Original for white:\n",
    "Net(  \n",
    "  (conv1): Conv2d(1, 6, kernel_size=(3, 3), stride=(1, 1))  \n",
    "  (conv2): Conv2d(6, 16, kernel_size=(7, 7), stride=(1, 1))  \n",
    "  (fc1): Linear(in_features=1296, out_features=500, bias=True)  \n",
    "  (fc2): Linear(in_features=500, out_features=100, bias=True)  \n",
    "  (fc3): Linear(in_features=100, out_features=4, bias=True)  \n",
    ")"
   ]
  },
  {
   "cell_type": "code",
   "execution_count": 6,
   "metadata": {},
   "outputs": [
    {
     "data": {
      "text/plain": [
       "Net(\n",
       "  (conv1): Conv2d(1, 6, kernel_size=(3, 3), stride=(1, 1))\n",
       "  (conv2): Conv2d(6, 16, kernel_size=(7, 7), stride=(1, 1))\n",
       "  (fc1): Linear(in_features=1296, out_features=500, bias=True)\n",
       "  (fc2): Linear(in_features=500, out_features=100, bias=True)\n",
       "  (fc3): Linear(in_features=100, out_features=4, bias=True)\n",
       ")"
      ]
     },
     "execution_count": 6,
     "metadata": {},
     "output_type": "execute_result"
    }
   ],
   "source": [
    "net"
   ]
  },
  {
   "cell_type": "code",
   "execution_count": 7,
   "metadata": {},
   "outputs": [],
   "source": [
    "criterion = nn.CrossEntropyLoss()\n",
    "optimizer = optim.SGD(net.parameters(), lr=0.001, momentum=0.9)"
   ]
  },
  {
   "cell_type": "markdown",
   "metadata": {},
   "source": [
    "## Training the network"
   ]
  },
  {
   "cell_type": "code",
   "execution_count": 8,
   "metadata": {
    "scrolled": true
   },
   "outputs": [
    {
     "name": "stdout",
     "output_type": "stream",
     "text": [
      "[1,   100] loss: 1.318\n",
      "[1,   200] loss: 1.295\n",
      "[1,   300] loss: 1.339\n",
      "[1,   400] loss: 1.309\n",
      "[1,   500] loss: 1.193\n",
      "[1,   600] loss: 1.254\n",
      "[1,   700] loss: 1.040\n",
      "[1,   800] loss: 0.950\n",
      "[1,   900] loss: 0.783\n",
      "[1,  1000] loss: 0.652\n",
      "[1,  1100] loss: 0.523\n",
      "[1,  1200] loss: 0.397\n",
      "[1,  1300] loss: 0.358\n",
      "[1,  1400] loss: 0.256\n",
      "[1,  1500] loss: 0.109\n",
      "[1,  1600] loss: 0.192\n",
      "[1,  1700] loss: 0.342\n",
      "[1,  1800] loss: 0.068\n",
      "[1,  1900] loss: 0.134\n",
      "[1,  2000] loss: 0.095\n",
      "[1,  2100] loss: 0.090\n",
      "[1,  2200] loss: 0.038\n",
      "[1,  2300] loss: 0.098\n",
      "[1,  2400] loss: 0.049\n",
      "[1,  2500] loss: 0.031\n",
      "[1,  2600] loss: 0.171\n",
      "[1,  2700] loss: 0.108\n",
      "[1,  2800] loss: 0.119\n",
      "[1,  2900] loss: 0.025\n",
      "[1,  3000] loss: 0.128\n",
      "[1,  3100] loss: 0.031\n",
      "[1,  3200] loss: 0.031\n",
      "[1,  3300] loss: 0.003\n",
      "[2,   100] loss: 0.003\n",
      "[2,   200] loss: 0.001\n",
      "[2,   300] loss: 0.061\n",
      "[2,   400] loss: 0.013\n",
      "[2,   500] loss: 0.019\n",
      "[2,   600] loss: 0.018\n",
      "[2,   700] loss: 0.004\n",
      "[2,   800] loss: 0.117\n",
      "[2,   900] loss: 0.056\n",
      "[2,  1000] loss: 0.040\n",
      "[2,  1100] loss: 0.006\n",
      "[2,  1200] loss: 0.015\n",
      "[2,  1300] loss: 0.032\n",
      "[2,  1400] loss: 0.005\n",
      "[2,  1500] loss: 0.002\n",
      "[2,  1600] loss: 0.001\n",
      "[2,  1700] loss: 0.030\n",
      "[2,  1800] loss: 0.001\n",
      "[2,  1900] loss: 0.011\n",
      "[2,  2000] loss: 0.001\n",
      "[2,  2100] loss: 0.001\n",
      "[2,  2200] loss: 0.000\n",
      "[2,  2300] loss: 0.008\n",
      "[2,  2400] loss: 0.000\n",
      "[2,  2500] loss: 0.002\n",
      "[2,  2600] loss: 0.004\n",
      "[2,  2700] loss: 0.000\n",
      "[2,  2800] loss: 0.002\n",
      "[2,  2900] loss: 0.002\n",
      "[2,  3000] loss: 0.001\n",
      "[2,  3100] loss: 0.000\n",
      "[2,  3200] loss: 0.001\n",
      "[2,  3300] loss: 0.000\n",
      "[3,   100] loss: 0.000\n",
      "[3,   200] loss: 0.000\n",
      "[3,   300] loss: 0.002\n",
      "[3,   400] loss: 0.002\n",
      "[3,   500] loss: 0.002\n",
      "[3,   600] loss: 0.002\n",
      "[3,   700] loss: 0.000\n",
      "[3,   800] loss: 0.001\n",
      "[3,   900] loss: 0.000\n",
      "[3,  1000] loss: 0.001\n"
     ]
    },
    {
     "ename": "KeyboardInterrupt",
     "evalue": "",
     "output_type": "error",
     "traceback": [
      "\u001b[0;31m---------------------------------------------------------------------------\u001b[0m",
      "\u001b[0;31mKeyboardInterrupt\u001b[0m                         Traceback (most recent call last)",
      "\u001b[0;32m<ipython-input-8-cb1f197eaf65>\u001b[0m in \u001b[0;36m<module>\u001b[0;34m()\u001b[0m\n\u001b[1;32m     17\u001b[0m         \u001b[0moutputs\u001b[0m \u001b[0;34m=\u001b[0m \u001b[0mnet\u001b[0m\u001b[0;34m(\u001b[0m\u001b[0minputs\u001b[0m\u001b[0;34m)\u001b[0m\u001b[0;34m\u001b[0m\u001b[0m\n\u001b[1;32m     18\u001b[0m         \u001b[0mloss\u001b[0m \u001b[0;34m=\u001b[0m \u001b[0mcriterion\u001b[0m\u001b[0;34m(\u001b[0m\u001b[0moutputs\u001b[0m\u001b[0;34m,\u001b[0m \u001b[0mlabel\u001b[0m\u001b[0;34m)\u001b[0m\u001b[0;34m\u001b[0m\u001b[0m\n\u001b[0;32m---> 19\u001b[0;31m         \u001b[0mloss\u001b[0m\u001b[0;34m.\u001b[0m\u001b[0mbackward\u001b[0m\u001b[0;34m(\u001b[0m\u001b[0;34m)\u001b[0m\u001b[0;34m\u001b[0m\u001b[0m\n\u001b[0m\u001b[1;32m     20\u001b[0m         \u001b[0moptimizer\u001b[0m\u001b[0;34m.\u001b[0m\u001b[0mstep\u001b[0m\u001b[0;34m(\u001b[0m\u001b[0;34m)\u001b[0m\u001b[0;34m\u001b[0m\u001b[0m\n\u001b[1;32m     21\u001b[0m \u001b[0;34m\u001b[0m\u001b[0m\n",
      "\u001b[0;32m/home/dhull/.conda/envs/ocr/lib/python2.7/site-packages/torch/tensor.pyc\u001b[0m in \u001b[0;36mbackward\u001b[0;34m(self, gradient, retain_graph, create_graph)\u001b[0m\n\u001b[1;32m    164\u001b[0m                 \u001b[0mproducts\u001b[0m\u001b[0;34m.\u001b[0m \u001b[0mDefaults\u001b[0m \u001b[0mto\u001b[0m \u001b[0;34m`\u001b[0m\u001b[0;34m`\u001b[0m\u001b[0mFalse\u001b[0m\u001b[0;34m`\u001b[0m\u001b[0;34m`\u001b[0m\u001b[0;34m.\u001b[0m\u001b[0;34m\u001b[0m\u001b[0m\n\u001b[1;32m    165\u001b[0m         \"\"\"\n\u001b[0;32m--> 166\u001b[0;31m         \u001b[0mtorch\u001b[0m\u001b[0;34m.\u001b[0m\u001b[0mautograd\u001b[0m\u001b[0;34m.\u001b[0m\u001b[0mbackward\u001b[0m\u001b[0;34m(\u001b[0m\u001b[0mself\u001b[0m\u001b[0;34m,\u001b[0m \u001b[0mgradient\u001b[0m\u001b[0;34m,\u001b[0m \u001b[0mretain_graph\u001b[0m\u001b[0;34m,\u001b[0m \u001b[0mcreate_graph\u001b[0m\u001b[0;34m)\u001b[0m\u001b[0;34m\u001b[0m\u001b[0m\n\u001b[0m\u001b[1;32m    167\u001b[0m \u001b[0;34m\u001b[0m\u001b[0m\n\u001b[1;32m    168\u001b[0m     \u001b[0;32mdef\u001b[0m \u001b[0mregister_hook\u001b[0m\u001b[0;34m(\u001b[0m\u001b[0mself\u001b[0m\u001b[0;34m,\u001b[0m \u001b[0mhook\u001b[0m\u001b[0;34m)\u001b[0m\u001b[0;34m:\u001b[0m\u001b[0;34m\u001b[0m\u001b[0m\n",
      "\u001b[0;32m/home/dhull/.conda/envs/ocr/lib/python2.7/site-packages/torch/autograd/__init__.pyc\u001b[0m in \u001b[0;36mbackward\u001b[0;34m(tensors, grad_tensors, retain_graph, create_graph, grad_variables)\u001b[0m\n\u001b[1;32m     97\u001b[0m     Variable._execution_engine.run_backward(\n\u001b[1;32m     98\u001b[0m         \u001b[0mtensors\u001b[0m\u001b[0;34m,\u001b[0m \u001b[0mgrad_tensors\u001b[0m\u001b[0;34m,\u001b[0m \u001b[0mretain_graph\u001b[0m\u001b[0;34m,\u001b[0m \u001b[0mcreate_graph\u001b[0m\u001b[0;34m,\u001b[0m\u001b[0;34m\u001b[0m\u001b[0m\n\u001b[0;32m---> 99\u001b[0;31m         allow_unreachable=True)  # allow_unreachable flag\n\u001b[0m\u001b[1;32m    100\u001b[0m \u001b[0;34m\u001b[0m\u001b[0m\n\u001b[1;32m    101\u001b[0m \u001b[0;34m\u001b[0m\u001b[0m\n",
      "\u001b[0;31mKeyboardInterrupt\u001b[0m: "
     ]
    }
   ],
   "source": [
    "mini_batch = 100\n",
    "loss_values = []\n",
    "test_values = []\n",
    "train_size = int(0.8*len(imgs))\n",
    "test_size = len(imgs) - train_size\n",
    "for epoch in range(10):  # loop over the dataset multiple times\n",
    "\n",
    "    running_loss = 0.0\n",
    "    \n",
    "    for i in range(train_size):\n",
    "        # get the inputs; data is a list of [inputs, labels]\n",
    "        inputs = torch.from_numpy(np.asarray([imgs[i]])).float()\n",
    "        label = torch.from_numpy(np.asarray([lbls[i]])).long()\n",
    "        optimizer.zero_grad()\n",
    "        \n",
    "        # forward + backward + optimize\n",
    "        outputs = net(inputs)\n",
    "        loss = criterion(outputs, label)\n",
    "        loss.backward()\n",
    "        optimizer.step()\n",
    "\n",
    "        # print statistics\n",
    "        running_loss += loss.item()\n",
    "        if i % mini_batch == mini_batch-1:    # print every 200 mini-batches\n",
    "            print('[%d, %5d] loss: %.3f' %\n",
    "                  (epoch + 1, i + 1, running_loss / mini_batch))\n",
    "            total = 0\n",
    "            correct = 0\n",
    "            test_loss = 0.0\n",
    "            for j in range(train_size,len(imgs)):\n",
    "                # get the inputs; data is a list of [inputs, labels]\n",
    "                inputs = torch.from_numpy(np.asarray([imgs[j]])).float()\n",
    "                labels = torch.from_numpy(np.asarray([lbls[j]])).long()\n",
    "\n",
    "                # forward + backward + optimize\n",
    "                outputs = net(inputs)\n",
    "                loss = criterion(outputs, labels)\n",
    "                test_loss += loss.item()\n",
    "            test_values.append(test_loss/test_size)\n",
    "            loss_values.append(running_loss/mini_batch)\n",
    "            running_loss = 0.0\n",
    "        \n",
    "plt.plot(loss_values)\n",
    "plt.plot(test_values)\n",
    "\n",
    "print('Finished Training')"
   ]
  },
  {
   "cell_type": "code",
   "execution_count": 9,
   "metadata": {},
   "outputs": [
    {
     "data": {
      "text/plain": [
       "[<matplotlib.lines.Line2D at 0x7f4b7acdb690>]"
      ]
     },
     "execution_count": 9,
     "metadata": {},
     "output_type": "execute_result"
    },
    {
     "data": {
      "image/png": "[encoded data removed]",
      "text/plain": [
       "<Figure size 432x288 with 1 Axes>"
      ]
     },
     "metadata": {
      "needs_background": "light"
     },
     "output_type": "display_data"
    }
   ],
   "source": [
    "plt.plot(loss_values)\n",
    "plt.plot(test_values)"
   ]
  },
  {
   "cell_type": "code",
   "execution_count": 10,
   "metadata": {},
   "outputs": [],
   "source": [
    "torch.save(net.state_dict(), \"part1.m\")"
   ]
  },
  {
   "cell_type": "code",
   "execution_count": null,
   "metadata": {},
   "outputs": [],
   "source": [
    "net.load_state_dict(torch.load(\"trained.m\"))"
   ]
  },
  {
   "cell_type": "markdown",
   "metadata": {},
   "source": [
    "## Chenking Train and Test accuracies"
   ]
  },
  {
   "cell_type": "code",
   "execution_count": null,
   "metadata": {},
   "outputs": [],
   "source": [
    "correct = 0\n",
    "total = 0\n",
    "with torch.no_grad():\n",
    "    for i in range(len(imgs)):\n",
    "        # get the inputs; data is a list of [inputs, labels]\n",
    "        inputs = torch.from_numpy(np.asarray([imgs[i]])).float()\n",
    "        labels = torch.from_numpy(np.asarray([lbls[i]])).long()\n",
    "        \n",
    "        # forward + backward + optimize\n",
    "        outputs = net(inputs)\n",
    "        _, predicted = torch.max(outputs.data, 1)\n",
    "        total += labels.size(0)\n",
    "        correct += (predicted == labels).sum().item()\n",
    "\n",
    "print('Accuracy of the network on the train images: %d %%' % (\n",
    "    100 * correct / total))"
   ]
  },
  {
   "cell_type": "code",
   "execution_count": null,
   "metadata": {},
   "outputs": [],
   "source": [
    "correct = 0\n",
    "total = 0\n",
    "with torch.no_grad():\n",
    "    for data in testloader:\n",
    "        images, labels = data\n",
    "        outputs = net(images)\n",
    "        _, predicted = torch.max(outputs.data, 1)\n",
    "        total += labels.size(0)\n",
    "        correct += (predicted == labels).sum().item()\n",
    "\n",
    "print('Accuracy of the network on the test images: %d %%' % (\n",
    "    100 * correct / total))"
   ]
  },
  {
   "cell_type": "markdown",
   "metadata": {},
   "source": [
    "## Making your own custom Dataloader"
   ]
  },
  {
   "cell_type": "code",
   "execution_count": null,
   "metadata": {},
   "outputs": [],
   "source": [
    "imgs.shape"
   ]
  },
  {
   "cell_type": "code",
   "execution_count": null,
   "metadata": {},
   "outputs": [],
   "source": [
    "torch_imgs.shape"
   ]
  },
  {
   "cell_type": "code",
   "execution_count": null,
   "metadata": {},
   "outputs": [],
   "source": []
  }
 ],
 "metadata": {
  "kernelspec": {
   "display_name": "Python 3",
   "language": "python",
   "name": "python3"
  },
  "language_info": {
   "codemirror_mode": {
    "name": "ipython",
    "version": 2
   },
   "file_extension": ".py",
   "mimetype": "text/x-python",
   "name": "python",
   "nbconvert_exporter": "python",
   "pygments_lexer": "ipython2",
   "version": "2.7.16"
  }
 },
 "nbformat": 4,
 "nbformat_minor": 2
}
